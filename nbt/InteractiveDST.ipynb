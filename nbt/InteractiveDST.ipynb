{
 "cells": [
  {
   "cell_type": "code",
   "execution_count": 34,
   "metadata": {},
   "outputs": [],
   "source": [
    "from ipywidgets import interact, interactive, fixed\n",
    "from IPython.display import display\n",
    "\n",
    "import glob\n",
    "import numpy as np\n",
    "import matplotlib.pyplot as plt\n",
    "\n",
    "import invisible_cities.io.dst_io as dstio\n",
    "\n",
    "import invisible_cities.core.core_functions as coref\n",
    "from invisible_cities.icaro.hst_functions import hist\n",
    "import invisible_cities.core.fit_functions as fitf"
   ]
  },
  {
   "cell_type": "code",
   "execution_count": 35,
   "metadata": {},
   "outputs": [],
   "source": [
    "%matplotlib inline\n",
    "\n",
    "np.warnings.filterwarnings('ignore')\n",
    "\n",
    "plt.rcParams[\"figure.figsize\"]          = 8, 6\n",
    "plt.rcParams[\"font.size\"]               = 15\n",
    "plt.rcParams[\"figure.max_open_warning\"] = 100\n",
    "\n",
    "profOpt = \"--k\"\n",
    "fitOpt  = \"r\""
   ]
  },
  {
   "cell_type": "code",
   "execution_count": 3,
   "metadata": {},
   "outputs": [],
   "source": [
    "inpath = glob.glob('/home/lior/NEXT/Software/data/Run4/6181/kdst/kdst*')\n",
    "\n",
    "kdst = dstio.load_dsts(inpath, 'DST', 'Events')"
   ]
  },
  {
   "cell_type": "code",
   "execution_count": 48,
   "metadata": {},
   "outputs": [],
   "source": [
    "def energySpectrum_RZcut(kdst, rmax=200, zmin=0, zinterval=600):\n",
    "    fig, ax = plt.subplots(1, 2, figsize=(16,6))\n",
    "    sel = (kdst.R < rmax) & (coref.in_range(kdst.Z, zmin, zmin + zinterval))\n",
    "    plt.axes(ax[0])\n",
    "    y, x, _ = hist(kdst.S2e[sel], 100, [0000, 15000], new_figure=False)\n",
    "    ax[0].set_xlabel('S2 energy (pes)')\n",
    "    ax[0].set_ylabel('Entries')\n",
    "    \n",
    "    seed = np.max(y), x[np.argmax(y)], np.std(y)\n",
    "    f    = fitf.fit(fitf.gauss, x, y, seed, fit_range=[x[np.argmax(y)]-1000,x[np.argmax(y)]+1000])\n",
    "    ax[0].plot(x, f.fn(x), 'r')\n",
    "    ax[0].text(0, 0.9*np.max(y), f'R = {100*f.values[2]*2.35/f.values[1]:.2f}%')\n",
    "    ax[1].hist2d(kdst.Z[sel], kdst.S2e[sel], 100, [[0, 600],[0000, 15000]])\n",
    "    ax[1].set_xlabel('Drift time (µs)')\n",
    "    ax[1].set_ylabel('S2 energy (pes)')\n",
    "    fig.tight_layout()"
   ]
  },
  {
   "cell_type": "code",
   "execution_count": 49,
   "metadata": {},
   "outputs": [
    {
     "data": {
      "application/vnd.jupyter.widget-view+json": {
       "model_id": "8a53ee51b3a9444eb6849653a5f49f75",
       "version_major": 2,
       "version_minor": 0
      },
      "text/plain": [
       "interactive(children=(IntSlider(value=200, description='rmax', max=200, step=10), IntSlider(value=0, descripti…"
      ]
     },
     "metadata": {},
     "output_type": "display_data"
    }
   ],
   "source": [
    "w = interactive(energySpectrum_RZcut, kdst=fixed(kdst), rmax=(0, 200, 10), zmin=(0,600), zinterval=(0,600))\n",
    "display(w)"
   ]
  },
  {
   "cell_type": "markdown",
   "metadata": {},
   "source": [
    "`w` is a widget object that contains the current values results, example for `rmax`:"
   ]
  },
  {
   "cell_type": "code",
   "execution_count": 31,
   "metadata": {},
   "outputs": [
    {
     "data": {
      "text/plain": [
       "140"
      ]
     },
     "execution_count": 31,
     "metadata": {},
     "output_type": "execute_result"
    }
   ],
   "source": [
    "w.kwargs['rmax']"
   ]
  },
  {
   "cell_type": "code",
   "execution_count": null,
   "metadata": {},
   "outputs": [],
   "source": []
  }
 ],
 "metadata": {
  "kernelspec": {
   "display_name": "Python 3",
   "language": "python",
   "name": "python3"
  },
  "language_info": {
   "codemirror_mode": {
    "name": "ipython",
    "version": 3
   },
   "file_extension": ".py",
   "mimetype": "text/x-python",
   "name": "python",
   "nbconvert_exporter": "python",
   "pygments_lexer": "ipython3",
   "version": "3.6.3"
  }
 },
 "nbformat": 4,
 "nbformat_minor": 2
}
