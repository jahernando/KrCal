{
 "cells": [
  {
   "cell_type": "markdown",
   "metadata": {},
   "source": [
    "# Produce a XR-clean kDST"
   ]
  },
  {
   "cell_type": "markdown",
   "metadata": {},
   "source": [
    "<i>\n",
    "This notebook takes a kDST and filters the data to produce\n",
    "a XR-clean kDST in order to facilitate the Kr analysis.\n",
    "</i>\n",
    "\n",
    "<i>\n",
    "In presence of external gamma sources, the XR production\n",
    "is very significative and constitutes a source of\n",
    "background for Kr data. This NB filters the data to\n",
    "produce a rather pure dataset on which to perform\n",
    "the regular analysis.\n",
    "</i>"
   ]
  },
  {
   "cell_type": "markdown",
   "metadata": {},
   "source": [
    "### Notebook configuration"
   ]
  },
  {
   "cell_type": "code",
   "execution_count": null,
   "metadata": {
    "collapsed": true
   },
   "outputs": [],
   "source": [
    "run_number            = XXX_RUN_NUMBER_XXX\n",
    "run_number_correction = 6165\n",
    "dst_selection        = \"ezselection\"\n",
    "\n",
    "input_dst_filename  = f\"$IC_DATA/{run_number}/kdst/kdst_{run_number}.h5\"\n",
    "correction_filename = f\"$IC_DATA/XYmaps/corrections_run{run_number_correction}.h5\"\n",
    "output_dst_filename = f\"$IC_DATA/{run_number}/dst/kdst_{run_number}_{dst_selection}.h5\"\n",
    "\n",
    "apply_selection = True\n",
    "\n",
    "n_sigma = 3.5\n",
    "Zrange  =   0,  550\n",
    "Zfit    =  50,  500\n",
    "Erange  = 2e3, 20e3\n",
    "Znbins  =  50\n",
    "Enbins  = 100\n",
    "\n",
    "# Plotting style\n",
    "#default_cmap = \"viridis\"\n",
    "figure_size  = 14, 10\n",
    "font_size    = 12\n",
    "with_titles  = True"
   ]
  },
  {
   "cell_type": "markdown",
   "metadata": {},
   "source": [
    "### Imports"
   ]
  },
  {
   "cell_type": "code",
   "execution_count": null,
   "metadata": {
    "collapsed": true
   },
   "outputs": [],
   "source": [
    "import os\n",
    "import time\n",
    "\n",
    "import tables            as tb\n",
    "import numpy             as np\n",
    "import matplotlib.pyplot as plt\n",
    "\n",
    "#import invisible_cities.core.fit_functions as fitf\n",
    "import invisible_cities.reco.dst_functions as dstf\n",
    "\n",
    "from invisible_cities.core .core_functions import in_range\n",
    "from invisible_cities.icaro.hst_functions  import shift_to_bin_centers\n",
    "\n",
    "import core.corrections\n",
    "import core.kr_plt_functions as pkr\n",
    "import core.kr_ana_functions as akr\n",
    "\n",
    "%matplotlib inline\n",
    "%load_ext autoreload\n",
    "%autoreload 2"
   ]
  },
  {
   "cell_type": "markdown",
   "metadata": {},
   "source": [
    "### Initialization"
   ]
  },
  {
   "cell_type": "code",
   "execution_count": null,
   "metadata": {
    "collapsed": true
   },
   "outputs": [],
   "source": [
    "print(\"This notebook has been run on \", time.asctime())"
   ]
  },
  {
   "cell_type": "code",
   "execution_count": null,
   "metadata": {
    "collapsed": true
   },
   "outputs": [],
   "source": [
    "input_dst_filename  = os.path.expandvars( input_dst_filename)\n",
    "correction_filename = os.path.expandvars(correction_filename)\n",
    "output_dst_filename = os.path.expandvars(output_dst_filename)\n",
    "\n",
    "plt.rcParams[\"figure.figsize\"] = figure_size\n",
    "plt.rcParams[  \"font.size\"   ] =   font_size"
   ]
  },
  {
   "cell_type": "markdown",
   "metadata": {},
   "source": [
    "### Read data"
   ]
  },
  {
   "cell_type": "code",
   "execution_count": null,
   "metadata": {
    "collapsed": true
   },
   "outputs": [],
   "source": [
    "dst           = dstf.load_dst(input_dst_filename, \"DST\", \"Events\")\n",
    "dst           = dst[dst.nS1 == 1]\n",
    "\n",
    "number_of_S2s_full, number_of_evts_full = akr.kdst_unique_events(dst)\n",
    "\n",
    "print(f\"Total number of S2s   : {number_of_S2s_full} \")\n",
    "print(f\"Total number of events: {number_of_evts_full}\")\n",
    "dst.head()"
   ]
  },
  {
   "cell_type": "code",
   "execution_count": null,
   "metadata": {
    "collapsed": true
   },
   "outputs": [],
   "source": [
    "if \"index\" in dst: del dst[\"index\"]"
   ]
  },
  {
   "cell_type": "markdown",
   "metadata": {},
   "source": [
    "### Data filtering"
   ]
  },
  {
   "cell_type": "code",
   "execution_count": null,
   "metadata": {
    "collapsed": true
   },
   "outputs": [],
   "source": [
    "X   = dst.X  .values\n",
    "Y   = dst.Y  .values\n",
    "Z   = dst.Z  .values\n",
    "T   = dst.time.values - dst.time.values.min()\n",
    "S2e = dst.S2e\n",
    "E = corrections.Ecorrection(correction_filename, S2e, X, Y, Z)\n",
    "# if apply also Z-correction - uncomment\n",
    "# E = corrections.Ecorrection(correction_filename, S2e, X, Y, Z);"
   ]
  },
  {
   "cell_type": "code",
   "execution_count": null,
   "metadata": {
    "collapsed": true
   },
   "outputs": [],
   "source": [
    "sel_inband = akr.selection_in_band(E, Z, Erange, Zrange, Zfit, plot=True);\n",
    "nsel   = np.sum(sel_inband)\n",
    "effsel = 100.*nsel/(1.*len(sel_inband)) \n",
    "print(f\"Total number of selected candidates : {nsel} ({effsel:.1f} %)\" )"
   ]
  },
  {
   "cell_type": "markdown",
   "metadata": {},
   "source": [
    "### Produce filtered kDST"
   ]
  },
  {
   "cell_type": "code",
   "execution_count": null,
   "metadata": {
    "collapsed": true
   },
   "outputs": [],
   "source": [
    "# subdst = dst[in_range(E, lowE_cut(Z), highE_cut(Z))]\n",
    "subdst = dst[sel_inband]\n",
    "\n",
    "number_of_S2s_filtered, number_of_evts_filtered = akr.kdst_unique_events(subdst)\n",
    "\n",
    "number_of_S2s_ratio  = number_of_S2s_filtered  / number_of_S2s_full  * 100\n",
    "number_of_evts_ratio = number_of_evts_filtered / number_of_evts_full * 100\n",
    "\n",
    "print(f\"Total number of S2s   : {number_of_S2s_filtered} ({number_of_S2s_ratio:.1f} %)\" )\n",
    "print(f\"Total number of events: {number_of_evts_filtered} ({number_of_evts_ratio:.1f} %)\")"
   ]
  },
  {
   "cell_type": "markdown",
   "metadata": {},
   "source": [
    "### Comparison between original and filtered data"
   ]
  },
  {
   "cell_type": "code",
   "execution_count": null,
   "metadata": {
    "collapsed": true
   },
   "outputs": [],
   "source": [
    "pkr.dst_compare_vars(dst, subdst)"
   ]
  },
  {
   "cell_type": "code",
   "execution_count": null,
   "metadata": {
    "collapsed": true
   },
   "outputs": [],
   "source": [
    "akr.kdst_write(subdst, output_dst_filename);"
   ]
  }
 ],
 "metadata": {
  "kernelspec": {
   "display_name": "Python 3",
   "language": "python",
   "name": "python3"
  },
  "language_info": {
   "codemirror_mode": {
    "name": "ipython",
    "version": 3
   },
   "file_extension": ".py",
   "mimetype": "text/x-python",
   "name": "python",
   "nbconvert_exporter": "python",
   "pygments_lexer": "ipython3",
   "version": "3.6.2"
  }
 },
 "nbformat": 4,
 "nbformat_minor": 2
}
